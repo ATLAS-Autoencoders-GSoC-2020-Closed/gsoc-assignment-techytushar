{
  "nbformat": 4,
  "nbformat_minor": 0,
  "metadata": {
    "colab": {
      "name": "Atlas_TF.ipynb",
      "provenance": [],
      "collapsed_sections": []
    },
    "kernelspec": {
      "name": "python3",
      "display_name": "Python 3"
    },
    "accelerator": "GPU"
  },
  "cells": [
    {
      "cell_type": "code",
      "metadata": {
        "id": "kwITGfIzsuqj",
        "colab_type": "code",
        "colab": {}
      },
      "source": [
        "from google.colab import drive\n",
        "drive.mount('/gdrive')\n",
        "! pip install -q corner"
      ],
      "execution_count": 0,
      "outputs": []
    },
    {
      "cell_type": "code",
      "metadata": {
        "id": "df9x0fLetlns",
        "colab_type": "code",
        "outputId": "0db2bdbf-7f53-4bc6-844b-b2e88d3330cc",
        "colab": {
          "base_uri": "https://localhost:8080/",
          "height": 53
        }
      },
      "source": [
        "% tensorflow_version 2.x\n",
        "import pandas as pd\n",
        "import numpy as np\n",
        "import matplotlib.pyplot as plt\n",
        "import tensorflow as tf\n",
        "import tensorflow.keras.layers as L\n",
        "from tensorflow.keras import Model\n",
        "from tensorflow.keras.optimizers import Adam, RMSprop, SGD\n",
        "from tensorflow.keras.callbacks import ModelCheckpoint, EarlyStopping\n",
        "from tensorflow.keras.models import load_model\n",
        "from tensorflow.keras.utils import plot_model\n",
        "import tensorflow_addons as tfa\n",
        "import tensorflow.keras.backend as K\n",
        "from sklearn.preprocessing import StandardScaler\n",
        "from sklearn.metrics import mean_squared_error\n",
        "\n",
        "import os\n",
        "import pickle\n",
        "print(tf.__version__)"
      ],
      "execution_count": 2,
      "outputs": [
        {
          "output_type": "stream",
          "text": [
            "TensorFlow 2.x selected.\n",
            "2.1.0\n"
          ],
          "name": "stdout"
        }
      ]
    },
    {
      "cell_type": "markdown",
      "metadata": {
        "id": "zT7rzsNuEvsQ",
        "colab_type": "text"
      },
      "source": [
        "# Reading data"
      ]
    },
    {
      "cell_type": "code",
      "metadata": {
        "id": "B-E_jzTxtXNZ",
        "colab_type": "code",
        "outputId": "a13c4297-4fee-4cc0-a5b9-bc9fa8180a5b",
        "colab": {
          "base_uri": "https://localhost:8080/",
          "height": 35
        }
      },
      "source": [
        "#getting data from drive\n",
        "path = '/gdrive/My Drive/Machine_learning/GSOC_Evaluation_Datasets/'\n",
        "os.listdir(path)"
      ],
      "execution_count": 3,
      "outputs": [
        {
          "output_type": "execute_result",
          "data": {
            "text/plain": [
              "['all_jets_test_4D_100_percent.pkl', 'all_jets_train_4D_100_percent.pkl']"
            ]
          },
          "metadata": {
            "tags": []
          },
          "execution_count": 3
        }
      ]
    },
    {
      "cell_type": "code",
      "metadata": {
        "id": "kvjN3MUltkNR",
        "colab_type": "code",
        "outputId": "24c206fe-a57c-4f34-8b3c-cd5526dca14a",
        "colab": {
          "base_uri": "https://localhost:8080/",
          "height": 224
        }
      },
      "source": [
        "# reading the data from pickle files\n",
        "df = pd.read_pickle(f'{path}all_jets_train_4D_100_percent.pkl')\n",
        "print(df.shape)\n",
        "df.head()"
      ],
      "execution_count": 4,
      "outputs": [
        {
          "output_type": "stream",
          "text": [
            "(111778, 4)\n"
          ],
          "name": "stdout"
        },
        {
          "output_type": "execute_result",
          "data": {
            "text/html": [
              "<div>\n",
              "<style scoped>\n",
              "    .dataframe tbody tr th:only-of-type {\n",
              "        vertical-align: middle;\n",
              "    }\n",
              "\n",
              "    .dataframe tbody tr th {\n",
              "        vertical-align: top;\n",
              "    }\n",
              "\n",
              "    .dataframe thead th {\n",
              "        text-align: right;\n",
              "    }\n",
              "</style>\n",
              "<table border=\"1\" class=\"dataframe\">\n",
              "  <thead>\n",
              "    <tr style=\"text-align: right;\">\n",
              "      <th></th>\n",
              "      <th>m</th>\n",
              "      <th>pt</th>\n",
              "      <th>phi</th>\n",
              "      <th>eta</th>\n",
              "    </tr>\n",
              "  </thead>\n",
              "  <tbody>\n",
              "    <tr>\n",
              "      <th>132784</th>\n",
              "      <td>3831.839355</td>\n",
              "      <td>22000.609375</td>\n",
              "      <td>1.567018</td>\n",
              "      <td>1.142924</td>\n",
              "    </tr>\n",
              "    <tr>\n",
              "      <th>99666</th>\n",
              "      <td>4582.417480</td>\n",
              "      <td>21648.210938</td>\n",
              "      <td>-2.680558</td>\n",
              "      <td>0.213654</td>\n",
              "    </tr>\n",
              "    <tr>\n",
              "      <th>26629</th>\n",
              "      <td>16747.765625</td>\n",
              "      <td>169514.281250</td>\n",
              "      <td>-1.948239</td>\n",
              "      <td>1.163296</td>\n",
              "    </tr>\n",
              "    <tr>\n",
              "      <th>80473</th>\n",
              "      <td>14789.586914</td>\n",
              "      <td>183085.609375</td>\n",
              "      <td>-1.641102</td>\n",
              "      <td>2.670927</td>\n",
              "    </tr>\n",
              "    <tr>\n",
              "      <th>48229</th>\n",
              "      <td>4646.724121</td>\n",
              "      <td>20527.130859</td>\n",
              "      <td>2.922270</td>\n",
              "      <td>-1.158871</td>\n",
              "    </tr>\n",
              "  </tbody>\n",
              "</table>\n",
              "</div>"
            ],
            "text/plain": [
              "                   m             pt       phi       eta\n",
              "132784   3831.839355   22000.609375  1.567018  1.142924\n",
              "99666    4582.417480   21648.210938 -2.680558  0.213654\n",
              "26629   16747.765625  169514.281250 -1.948239  1.163296\n",
              "80473   14789.586914  183085.609375 -1.641102  2.670927\n",
              "48229    4646.724121   20527.130859  2.922270 -1.158871"
            ]
          },
          "metadata": {
            "tags": []
          },
          "execution_count": 4
        }
      ]
    },
    {
      "cell_type": "code",
      "metadata": {
        "id": "udLouftjuaRI",
        "colab_type": "code",
        "outputId": "f0e7c370-1bbc-45f6-ef80-0e54eae0d73d",
        "colab": {
          "base_uri": "https://localhost:8080/",
          "height": 224
        }
      },
      "source": [
        "df_test = pd.read_pickle(f'{path}all_jets_test_4D_100_percent.pkl')\n",
        "print(df_test.shape)\n",
        "df_test.head()"
      ],
      "execution_count": 5,
      "outputs": [
        {
          "output_type": "stream",
          "text": [
            "(27945, 4)\n"
          ],
          "name": "stdout"
        },
        {
          "output_type": "execute_result",
          "data": {
            "text/html": [
              "<div>\n",
              "<style scoped>\n",
              "    .dataframe tbody tr th:only-of-type {\n",
              "        vertical-align: middle;\n",
              "    }\n",
              "\n",
              "    .dataframe tbody tr th {\n",
              "        vertical-align: top;\n",
              "    }\n",
              "\n",
              "    .dataframe thead th {\n",
              "        text-align: right;\n",
              "    }\n",
              "</style>\n",
              "<table border=\"1\" class=\"dataframe\">\n",
              "  <thead>\n",
              "    <tr style=\"text-align: right;\">\n",
              "      <th></th>\n",
              "      <th>m</th>\n",
              "      <th>pt</th>\n",
              "      <th>phi</th>\n",
              "      <th>eta</th>\n",
              "    </tr>\n",
              "  </thead>\n",
              "  <tbody>\n",
              "    <tr>\n",
              "      <th>85972</th>\n",
              "      <td>4983.729980</td>\n",
              "      <td>23798.070312</td>\n",
              "      <td>1.962157</td>\n",
              "      <td>-0.059532</td>\n",
              "    </tr>\n",
              "    <tr>\n",
              "      <th>38742</th>\n",
              "      <td>5435.273438</td>\n",
              "      <td>21881.867188</td>\n",
              "      <td>1.035412</td>\n",
              "      <td>0.734343</td>\n",
              "    </tr>\n",
              "    <tr>\n",
              "      <th>128711</th>\n",
              "      <td>5239.408691</td>\n",
              "      <td>24608.134766</td>\n",
              "      <td>-1.121055</td>\n",
              "      <td>0.828848</td>\n",
              "    </tr>\n",
              "    <tr>\n",
              "      <th>28751</th>\n",
              "      <td>14121.240234</td>\n",
              "      <td>203110.953125</td>\n",
              "      <td>0.324205</td>\n",
              "      <td>-2.571108</td>\n",
              "    </tr>\n",
              "    <tr>\n",
              "      <th>131358</th>\n",
              "      <td>3344.826660</td>\n",
              "      <td>24897.294922</td>\n",
              "      <td>0.395331</td>\n",
              "      <td>1.440069</td>\n",
              "    </tr>\n",
              "  </tbody>\n",
              "</table>\n",
              "</div>"
            ],
            "text/plain": [
              "                   m             pt       phi       eta\n",
              "85972    4983.729980   23798.070312  1.962157 -0.059532\n",
              "38742    5435.273438   21881.867188  1.035412  0.734343\n",
              "128711   5239.408691   24608.134766 -1.121055  0.828848\n",
              "28751   14121.240234  203110.953125  0.324205 -2.571108\n",
              "131358   3344.826660   24897.294922  0.395331  1.440069"
            ]
          },
          "metadata": {
            "tags": []
          },
          "execution_count": 5
        }
      ]
    },
    {
      "cell_type": "markdown",
      "metadata": {
        "id": "dfjfP9wEE0-S",
        "colab_type": "text"
      },
      "source": [
        "# EDA and Data Preprocessing"
      ]
    },
    {
      "cell_type": "code",
      "metadata": {
        "id": "ypLI1Dw3uVg9",
        "colab_type": "code",
        "outputId": "0c1b5145-6fd4-4fa7-feb1-5f0537fa001c",
        "colab": {
          "base_uri": "https://localhost:8080/",
          "height": 175
        }
      },
      "source": [
        "# understanding the data\n",
        "df.describe().T"
      ],
      "execution_count": 6,
      "outputs": [
        {
          "output_type": "execute_result",
          "data": {
            "text/html": [
              "<div>\n",
              "<style scoped>\n",
              "    .dataframe tbody tr th:only-of-type {\n",
              "        vertical-align: middle;\n",
              "    }\n",
              "\n",
              "    .dataframe tbody tr th {\n",
              "        vertical-align: top;\n",
              "    }\n",
              "\n",
              "    .dataframe thead th {\n",
              "        text-align: right;\n",
              "    }\n",
              "</style>\n",
              "<table border=\"1\" class=\"dataframe\">\n",
              "  <thead>\n",
              "    <tr style=\"text-align: right;\">\n",
              "      <th></th>\n",
              "      <th>count</th>\n",
              "      <th>mean</th>\n",
              "      <th>std</th>\n",
              "      <th>min</th>\n",
              "      <th>25%</th>\n",
              "      <th>50%</th>\n",
              "      <th>75%</th>\n",
              "      <th>max</th>\n",
              "    </tr>\n",
              "  </thead>\n",
              "  <tbody>\n",
              "    <tr>\n",
              "      <th>m</th>\n",
              "      <td>111778.0</td>\n",
              "      <td>8941.356799</td>\n",
              "      <td>7421.270111</td>\n",
              "      <td>-0.045353</td>\n",
              "      <td>4658.248535</td>\n",
              "      <td>5728.732910</td>\n",
              "      <td>10467.514160</td>\n",
              "      <td>128247.671875</td>\n",
              "    </tr>\n",
              "    <tr>\n",
              "      <th>pt</th>\n",
              "      <td>111778.0</td>\n",
              "      <td>64458.683471</td>\n",
              "      <td>69874.993026</td>\n",
              "      <td>20000.154297</td>\n",
              "      <td>22514.718750</td>\n",
              "      <td>27141.585938</td>\n",
              "      <td>78976.080078</td>\n",
              "      <td>748795.937500</td>\n",
              "    </tr>\n",
              "    <tr>\n",
              "      <th>phi</th>\n",
              "      <td>111778.0</td>\n",
              "      <td>0.001691</td>\n",
              "      <td>1.803151</td>\n",
              "      <td>-3.141587</td>\n",
              "      <td>-1.558285</td>\n",
              "      <td>0.019362</td>\n",
              "      <td>1.553306</td>\n",
              "      <td>3.141546</td>\n",
              "    </tr>\n",
              "    <tr>\n",
              "      <th>eta</th>\n",
              "      <td>111778.0</td>\n",
              "      <td>0.043500</td>\n",
              "      <td>1.448439</td>\n",
              "      <td>-4.745398</td>\n",
              "      <td>-1.139831</td>\n",
              "      <td>0.086258</td>\n",
              "      <td>1.178913</td>\n",
              "      <td>4.747644</td>\n",
              "    </tr>\n",
              "  </tbody>\n",
              "</table>\n",
              "</div>"
            ],
            "text/plain": [
              "        count          mean  ...           75%            max\n",
              "m    111778.0   8941.356799  ...  10467.514160  128247.671875\n",
              "pt   111778.0  64458.683471  ...  78976.080078  748795.937500\n",
              "phi  111778.0      0.001691  ...      1.553306       3.141546\n",
              "eta  111778.0      0.043500  ...      1.178913       4.747644\n",
              "\n",
              "[4 rows x 8 columns]"
            ]
          },
          "metadata": {
            "tags": []
          },
          "execution_count": 6
        }
      ]
    },
    {
      "cell_type": "code",
      "metadata": {
        "id": "Y2Od2iz89RdS",
        "colab_type": "code",
        "outputId": "db90e7b8-0e45-402e-cf2f-64ad02ed4eee",
        "colab": {
          "base_uri": "https://localhost:8080/",
          "height": 53
        }
      },
      "source": [
        "# checking for null values\n",
        "print(f'NaNs in train: {df.isnull().sum().sum()}')\n",
        "print(f'NaNs in test: {df_test.isnull().sum().sum()}')"
      ],
      "execution_count": 7,
      "outputs": [
        {
          "output_type": "stream",
          "text": [
            "NaNs in train: 0\n",
            "NaNs in test: 0\n"
          ],
          "name": "stdout"
        }
      ]
    },
    {
      "cell_type": "code",
      "metadata": {
        "id": "fm74ah9WX-t6",
        "colab_type": "code",
        "outputId": "8697a8e3-a557-4b9e-da78-0cb4f25436b7",
        "colab": {
          "base_uri": "https://localhost:8080/",
          "height": 499
        }
      },
      "source": [
        "# checking data distribution\n",
        "df.hist(figsize=(12,8), bins=50)\n",
        "plt.show()"
      ],
      "execution_count": 8,
      "outputs": [
        {
          "output_type": "display_data",
          "data": {
            "image/png": "[encoded data removed]",
            "text/plain": [
              "<Figure size 864x576 with 4 Axes>"
            ]
          },
          "metadata": {
            "tags": []
          }
        }
      ]
    },
    {
      "cell_type": "code",
      "metadata": {
        "id": "hlQ9Jt8aFB3s",
        "colab_type": "code",
        "outputId": "1744c147-c275-4361-c1c5-25bc0e7f62c0",
        "colab": {
          "base_uri": "https://localhost:8080/",
          "height": 106
        }
      },
      "source": [
        "# checking skweness values\n",
        "df.skew()"
      ],
      "execution_count": 9,
      "outputs": [
        {
          "output_type": "execute_result",
          "data": {
            "text/plain": [
              "m      2.420373\n",
              "pt     1.958352\n",
              "phi   -0.009165\n",
              "eta   -0.062186\n",
              "dtype: float64"
            ]
          },
          "metadata": {
            "tags": []
          },
          "execution_count": 9
        }
      ]
    },
    {
      "cell_type": "code",
      "metadata": {
        "id": "JHeR4Nxz2QAT",
        "colab_type": "code",
        "colab": {
          "base_uri": "https://localhost:8080/",
          "height": 175
        },
        "outputId": "ff265e6f-2cba-45b3-9274-6e91423a54f8"
      },
      "source": [
        "# custom normalization function for each feature\n",
        "def normalize(df):\n",
        "  df_temp = pd.DataFrame()\n",
        "  df_temp['phi'] = df['phi'] / 3.0\n",
        "  df_temp['eta'] = df['eta'] / 4.0\n",
        "  df_temp['m'] = np.log10(df['m']+1)\n",
        "  df_temp['pt'] = np.log10(df['pt'])\n",
        "  return df_temp\n",
        "\n",
        "def inverse_norm(df_norm):\n",
        "  df_temp = pd.DataFrame()\n",
        "  df_temp['phi'] = df_norm['phi'] * 3.0\n",
        "  df_temp['eta'] = df_norm['eta'] * 4.0\n",
        "  df_temp['m'] = (10**df_norm['m'])-1\n",
        "  df_temp['pt'] = 10**df_norm['pt']\n",
        "  return df_temp\n",
        "\n",
        "df_norm = normalize(df)\n",
        "df_norm.describe().T"
      ],
      "execution_count": 10,
      "outputs": [
        {
          "output_type": "execute_result",
          "data": {
            "text/html": [
              "<div>\n",
              "<style scoped>\n",
              "    .dataframe tbody tr th:only-of-type {\n",
              "        vertical-align: middle;\n",
              "    }\n",
              "\n",
              "    .dataframe tbody tr th {\n",
              "        vertical-align: top;\n",
              "    }\n",
              "\n",
              "    .dataframe thead th {\n",
              "        text-align: right;\n",
              "    }\n",
              "</style>\n",
              "<table border=\"1\" class=\"dataframe\">\n",
              "  <thead>\n",
              "    <tr style=\"text-align: right;\">\n",
              "      <th></th>\n",
              "      <th>count</th>\n",
              "      <th>mean</th>\n",
              "      <th>std</th>\n",
              "      <th>min</th>\n",
              "      <th>25%</th>\n",
              "      <th>50%</th>\n",
              "      <th>75%</th>\n",
              "      <th>max</th>\n",
              "    </tr>\n",
              "  </thead>\n",
              "  <tbody>\n",
              "    <tr>\n",
              "      <th>phi</th>\n",
              "      <td>111778.0</td>\n",
              "      <td>0.000564</td>\n",
              "      <td>0.601050</td>\n",
              "      <td>-1.047196</td>\n",
              "      <td>-0.519428</td>\n",
              "      <td>0.006454</td>\n",
              "      <td>0.517769</td>\n",
              "      <td>1.047182</td>\n",
              "    </tr>\n",
              "    <tr>\n",
              "      <th>eta</th>\n",
              "      <td>111778.0</td>\n",
              "      <td>0.010875</td>\n",
              "      <td>0.362110</td>\n",
              "      <td>-1.186349</td>\n",
              "      <td>-0.284958</td>\n",
              "      <td>0.021565</td>\n",
              "      <td>0.294728</td>\n",
              "      <td>1.186911</td>\n",
              "    </tr>\n",
              "    <tr>\n",
              "      <th>m</th>\n",
              "      <td>111778.0</td>\n",
              "      <td>3.832283</td>\n",
              "      <td>0.399387</td>\n",
              "      <td>-0.020157</td>\n",
              "      <td>3.668316</td>\n",
              "      <td>3.758134</td>\n",
              "      <td>4.019885</td>\n",
              "      <td>5.108053</td>\n",
              "    </tr>\n",
              "    <tr>\n",
              "      <th>pt</th>\n",
              "      <td>111778.0</td>\n",
              "      <td>4.627400</td>\n",
              "      <td>0.363469</td>\n",
              "      <td>4.301033</td>\n",
              "      <td>4.352467</td>\n",
              "      <td>4.433635</td>\n",
              "      <td>4.897496</td>\n",
              "      <td>5.874363</td>\n",
              "    </tr>\n",
              "  </tbody>\n",
              "</table>\n",
              "</div>"
            ],
            "text/plain": [
              "        count      mean       std  ...       50%       75%       max\n",
              "phi  111778.0  0.000564  0.601050  ...  0.006454  0.517769  1.047182\n",
              "eta  111778.0  0.010875  0.362110  ...  0.021565  0.294728  1.186911\n",
              "m    111778.0  3.832283  0.399387  ...  3.758134  4.019885  5.108053\n",
              "pt   111778.0  4.627400  0.363469  ...  4.433635  4.897496  5.874363\n",
              "\n",
              "[4 rows x 8 columns]"
            ]
          },
          "metadata": {
            "tags": []
          },
          "execution_count": 10
        }
      ]
    },
    {
      "cell_type": "code",
      "metadata": {
        "id": "EospkDTeI6MP",
        "colab_type": "code",
        "outputId": "86cd10aa-5bc1-4f60-e261-eb49f50c297c",
        "colab": {
          "base_uri": "https://localhost:8080/",
          "height": 499
        }
      },
      "source": [
        "df_norm.hist(figsize=(12,8), bins=50)\n",
        "plt.show()"
      ],
      "execution_count": 11,
      "outputs": [
        {
          "output_type": "display_data",
          "data": {
            "image/png": "[encoded data removed]",
            "text/plain": [
              "<Figure size 864x576 with 4 Axes>"
            ]
          },
          "metadata": {
            "tags": []
          }
        }
      ]
    },
    {
      "cell_type": "code",
      "metadata": {
        "colab_type": "code",
        "outputId": "b0dca093-761a-4c4a-eaa0-8d92c2847ca8",
        "id": "PIUjPE7ON2GV",
        "colab": {
          "base_uri": "https://localhost:8080/",
          "height": 35
        }
      },
      "source": [
        "# normalizing test set\n",
        "df_test_norm = normalize(df_test)\n",
        "X = df_norm.values\n",
        "X_test = df_test_norm.values\n",
        "X, X_test = X.astype('float32'), X_test.astype('float32')\n",
        "print(X.shape, X_test.shape)"
      ],
      "execution_count": 12,
      "outputs": [
        {
          "output_type": "stream",
          "text": [
            "(111778, 4) (27945, 4)\n"
          ],
          "name": "stdout"
        }
      ]
    },
    {
      "cell_type": "code",
      "metadata": {
        "id": "G5Xllf7v-76P",
        "colab_type": "code",
        "outputId": "b319fb7a-ec07-494b-da60-40069b8d5568",
        "colab": {
          "base_uri": "https://localhost:8080/",
          "height": 175
        }
      },
      "source": [
        "df_test_norm.describe().T"
      ],
      "execution_count": 13,
      "outputs": [
        {
          "output_type": "execute_result",
          "data": {
            "text/html": [
              "<div>\n",
              "<style scoped>\n",
              "    .dataframe tbody tr th:only-of-type {\n",
              "        vertical-align: middle;\n",
              "    }\n",
              "\n",
              "    .dataframe tbody tr th {\n",
              "        vertical-align: top;\n",
              "    }\n",
              "\n",
              "    .dataframe thead th {\n",
              "        text-align: right;\n",
              "    }\n",
              "</style>\n",
              "<table border=\"1\" class=\"dataframe\">\n",
              "  <thead>\n",
              "    <tr style=\"text-align: right;\">\n",
              "      <th></th>\n",
              "      <th>count</th>\n",
              "      <th>mean</th>\n",
              "      <th>std</th>\n",
              "      <th>min</th>\n",
              "      <th>25%</th>\n",
              "      <th>50%</th>\n",
              "      <th>75%</th>\n",
              "      <th>max</th>\n",
              "    </tr>\n",
              "  </thead>\n",
              "  <tbody>\n",
              "    <tr>\n",
              "      <th>phi</th>\n",
              "      <td>27945.0</td>\n",
              "      <td>0.002341</td>\n",
              "      <td>0.604655</td>\n",
              "      <td>-1.047164</td>\n",
              "      <td>-0.522089</td>\n",
              "      <td>0.009406</td>\n",
              "      <td>0.523748</td>\n",
              "      <td>1.047176</td>\n",
              "    </tr>\n",
              "    <tr>\n",
              "      <th>eta</th>\n",
              "      <td>27945.0</td>\n",
              "      <td>0.010087</td>\n",
              "      <td>0.359800</td>\n",
              "      <td>-1.195702</td>\n",
              "      <td>-0.283597</td>\n",
              "      <td>0.017665</td>\n",
              "      <td>0.294177</td>\n",
              "      <td>1.164686</td>\n",
              "    </tr>\n",
              "    <tr>\n",
              "      <th>m</th>\n",
              "      <td>27945.0</td>\n",
              "      <td>3.832826</td>\n",
              "      <td>0.398385</td>\n",
              "      <td>-0.020140</td>\n",
              "      <td>3.668740</td>\n",
              "      <td>3.756826</td>\n",
              "      <td>4.021726</td>\n",
              "      <td>5.058936</td>\n",
              "    </tr>\n",
              "    <tr>\n",
              "      <th>pt</th>\n",
              "      <td>27945.0</td>\n",
              "      <td>4.628560</td>\n",
              "      <td>0.365982</td>\n",
              "      <td>4.301032</td>\n",
              "      <td>4.352060</td>\n",
              "      <td>4.433799</td>\n",
              "      <td>4.902812</td>\n",
              "      <td>5.895504</td>\n",
              "    </tr>\n",
              "  </tbody>\n",
              "</table>\n",
              "</div>"
            ],
            "text/plain": [
              "       count      mean       std  ...       50%       75%       max\n",
              "phi  27945.0  0.002341  0.604655  ...  0.009406  0.523748  1.047176\n",
              "eta  27945.0  0.010087  0.359800  ...  0.017665  0.294177  1.164686\n",
              "m    27945.0  3.832826  0.398385  ...  3.756826  4.021726  5.058936\n",
              "pt   27945.0  4.628560  0.365982  ...  4.433799  4.902812  5.895504\n",
              "\n",
              "[4 rows x 8 columns]"
            ]
          },
          "metadata": {
            "tags": []
          },
          "execution_count": 13
        }
      ]
    },
    {
      "cell_type": "markdown",
      "metadata": {
        "id": "CaiInb4qWwom",
        "colab_type": "text"
      },
      "source": [
        "# Building and Training Model"
      ]
    },
    {
      "cell_type": "code",
      "metadata": {
        "id": "nx98HmOjBqRi",
        "colab_type": "code",
        "outputId": "7ecb037b-5d7f-4aff-bf4c-164ed3a16875",
        "colab": {
          "base_uri": "https://localhost:8080/",
          "height": 982
        }
      },
      "source": [
        "def get_autoencoder():\n",
        "  # defining the model\n",
        "  input_layer = L.Input(shape=(4,))\n",
        "\n",
        "  enc_1 = L.Dense(200)(input_layer)\n",
        "  lrelu = L.LeakyReLU(0.05)(enc_1)\n",
        "  bn = L.BatchNormalization()(lrelu)\n",
        "  enc_2 = L.Dense(100)(bn)\n",
        "  lrelu = L.LeakyReLU(0.05)(enc_2)\n",
        "  bn = L.BatchNormalization()(lrelu)\n",
        "  enc_3 = L.Dense(50)(bn)\n",
        "  lrelu = L.LeakyReLU(0.05)(enc_3)\n",
        "  bn = L.BatchNormalization()(lrelu)\n",
        "\n",
        "  latent_vec = L.Dense(3)(bn)\n",
        "  lrelu = L.LeakyReLU(0.05)(latent_vec)\n",
        "  bn = L.BatchNormalization()(lrelu)\n",
        "\n",
        "  dec_3 = L.Dense(50)(bn)\n",
        "  lrelu = L.LeakyReLU(0.05)(dec_3)\n",
        "  bn = L.BatchNormalization()(lrelu)\n",
        "  dec_2 = L.Dense(100)(bn)\n",
        "  lrelu = L.LeakyReLU(0.05)(dec_2)\n",
        "  bn = L.BatchNormalization()(lrelu)\n",
        "  dec_1 = L.Dense(200)(bn)\n",
        "  lrelu = L.LeakyReLU(0.05)(dec_1)\n",
        "  bn = L.BatchNormalization()(lrelu)\n",
        "\n",
        "  out_layer = L.Dense(4, activation='linear')(bn)\n",
        "  \n",
        "  autoencoder = Model(input_layer, out_layer, name='autoencoder')\n",
        "  return autoencoder\n",
        "\n",
        "autoencoder = get_autoencoder()\n",
        "autoencoder.summary()"
      ],
      "execution_count": 14,
      "outputs": [
        {
          "output_type": "stream",
          "text": [
            "Model: \"autoencoder\"\n",
            "_________________________________________________________________\n",
            "Layer (type)                 Output Shape              Param #   \n",
            "=================================================================\n",
            "input_1 (InputLayer)         [(None, 4)]               0         \n",
            "_________________________________________________________________\n",
            "dense (Dense)                (None, 200)               1000      \n",
            "_________________________________________________________________\n",
            "leaky_re_lu (LeakyReLU)      (None, 200)               0         \n",
            "_________________________________________________________________\n",
            "batch_normalization (BatchNo (None, 200)               800       \n",
            "_________________________________________________________________\n",
            "dense_1 (Dense)              (None, 100)               20100     \n",
            "_________________________________________________________________\n",
            "leaky_re_lu_1 (LeakyReLU)    (None, 100)               0         \n",
            "_________________________________________________________________\n",
            "batch_normalization_1 (Batch (None, 100)               400       \n",
            "_________________________________________________________________\n",
            "dense_2 (Dense)              (None, 50)                5050      \n",
            "_________________________________________________________________\n",
            "leaky_re_lu_2 (LeakyReLU)    (None, 50)                0         \n",
            "_________________________________________________________________\n",
            "batch_normalization_2 (Batch (None, 50)                200       \n",
            "_________________________________________________________________\n",
            "dense_3 (Dense)              (None, 3)                 153       \n",
            "_________________________________________________________________\n",
            "leaky_re_lu_3 (LeakyReLU)    (None, 3)                 0         \n",
            "_________________________________________________________________\n",
            "batch_normalization_3 (Batch (None, 3)                 12        \n",
            "_________________________________________________________________\n",
            "dense_4 (Dense)              (None, 50)                200       \n",
            "_________________________________________________________________\n",
            "leaky_re_lu_4 (LeakyReLU)    (None, 50)                0         \n",
            "_________________________________________________________________\n",
            "batch_normalization_4 (Batch (None, 50)                200       \n",
            "_________________________________________________________________\n",
            "dense_5 (Dense)              (None, 100)               5100      \n",
            "_________________________________________________________________\n",
            "leaky_re_lu_5 (LeakyReLU)    (None, 100)               0         \n",
            "_________________________________________________________________\n",
            "batch_normalization_5 (Batch (None, 100)               400       \n",
            "_________________________________________________________________\n",
            "dense_6 (Dense)              (None, 200)               20200     \n",
            "_________________________________________________________________\n",
            "leaky_re_lu_6 (LeakyReLU)    (None, 200)               0         \n",
            "_________________________________________________________________\n",
            "batch_normalization_6 (Batch (None, 200)               800       \n",
            "_________________________________________________________________\n",
            "dense_7 (Dense)              (None, 4)                 804       \n",
            "=================================================================\n",
            "Total params: 55,419\n",
            "Trainable params: 54,013\n",
            "Non-trainable params: 1,406\n",
            "_________________________________________________________________\n"
          ],
          "name": "stdout"
        }
      ]
    },
    {
      "cell_type": "code",
      "metadata": {
        "id": "eYGWPyWahgfs",
        "colab_type": "code",
        "colab": {
          "base_uri": "https://localhost:8080/",
          "height": 1000
        },
        "outputId": "052bc0bf-4ec8-463b-d0a4-15caea1a917a"
      },
      "source": [
        "# compiling and training the model\n",
        "# optim = tfa.optimizers.AdamW(1e-02,\n",
        "#                             learning_rate = 5e-04)\n",
        "# optim = SGD(learning_rate=1e-03, momentum=1e-04)\n",
        "optim = Adam(learning_rate=1e-03)\n",
        "autoencoder.compile(optimizer=optim,\n",
        "                    loss='mse')\n",
        "\n",
        "# checkpoint = ModelCheckpoint('model.hdf5',\n",
        "#                              monitor='val_loss',\n",
        "#                              save_best_only=True,\n",
        "#                              mode='min')\n",
        "\n",
        "autoencoder.fit(X, X,\n",
        "                epochs=200,\n",
        "                batch_size=1024,\n",
        "                shuffle=True,\n",
        "                validation_data=(X_test, X_test))"
      ],
      "execution_count": 15,
      "outputs": [
        {
          "output_type": "stream",
          "text": [
            "Train on 111778 samples, validate on 27945 samples\n",
            "Epoch 1/200\n",
            "111778/111778 [==============================] - 4s 36us/sample - loss: 8.6066 - val_loss: 7.2817\n",
            "Epoch 2/200\n",
            "111778/111778 [==============================] - 0s 4us/sample - loss: 6.5689 - val_loss: 4.7327\n",
            "Epoch 3/200\n",
            "111778/111778 [==============================] - 0s 4us/sample - loss: 3.8073 - val_loss: 1.9222\n",
            "Epoch 4/200\n",
            "111778/111778 [==============================] - 0s 4us/sample - loss: 1.2052 - val_loss: 0.3475\n",
            "Epoch 5/200\n",
            "111778/111778 [==============================] - 0s 4us/sample - loss: 0.1282 - val_loss: 0.2236\n",
            "Epoch 6/200\n",
            "111778/111778 [==============================] - 0s 4us/sample - loss: 0.0121 - val_loss: 0.2574\n",
            "Epoch 7/200\n",
            "111778/111778 [==============================] - 0s 4us/sample - loss: 0.0112 - val_loss: 0.2345\n",
            "Epoch 8/200\n",
            "111778/111778 [==============================] - 0s 4us/sample - loss: 0.0105 - val_loss: 0.2253\n",
            "Epoch 9/200\n",
            "111778/111778 [==============================] - 0s 4us/sample - loss: 0.0093 - val_loss: 0.2307\n",
            "Epoch 10/200\n",
            "111778/111778 [==============================] - 0s 4us/sample - loss: 0.0098 - val_loss: 0.2172\n",
            "Epoch 11/200\n",
            "111778/111778 [==============================] - 0s 4us/sample - loss: 0.0086 - val_loss: 0.2061\n",
            "Epoch 12/200\n",
            "111778/111778 [==============================] - 0s 4us/sample - loss: 0.0076 - val_loss: 0.2020\n",
            "Epoch 13/200\n",
            "111778/111778 [==============================] - 0s 4us/sample - loss: 0.0116 - val_loss: 0.1849\n",
            "Epoch 14/200\n",
            "111778/111778 [==============================] - 0s 4us/sample - loss: 0.0081 - val_loss: 0.1698\n",
            "Epoch 15/200\n",
            "111778/111778 [==============================] - 0s 4us/sample - loss: 0.0069 - val_loss: 0.1400\n",
            "Epoch 16/200\n",
            "111778/111778 [==============================] - 0s 4us/sample - loss: 0.0066 - val_loss: 0.1189\n",
            "Epoch 17/200\n",
            "111778/111778 [==============================] - 0s 4us/sample - loss: 0.0065 - val_loss: 0.1002\n",
            "Epoch 18/200\n",
            "111778/111778 [==============================] - 0s 4us/sample - loss: 0.0060 - val_loss: 0.0796\n",
            "Epoch 19/200\n",
            "111778/111778 [==============================] - 0s 4us/sample - loss: 0.0061 - val_loss: 0.0587\n",
            "Epoch 20/200\n",
            "111778/111778 [==============================] - 0s 4us/sample - loss: 0.0056 - val_loss: 0.0440\n",
            "Epoch 21/200\n",
            "111778/111778 [==============================] - 0s 4us/sample - loss: 0.0057 - val_loss: 0.0372\n",
            "Epoch 22/200\n",
            "111778/111778 [==============================] - 0s 4us/sample - loss: 0.0070 - val_loss: 0.0257\n",
            "Epoch 23/200\n",
            "111778/111778 [==============================] - 0s 4us/sample - loss: 0.0064 - val_loss: 0.0269\n",
            "Epoch 24/200\n",
            "111778/111778 [==============================] - 0s 4us/sample - loss: 0.0079 - val_loss: 0.0126\n",
            "Epoch 25/200\n",
            "111778/111778 [==============================] - 0s 4us/sample - loss: 0.0051 - val_loss: 0.0090\n",
            "Epoch 26/200\n",
            "111778/111778 [==============================] - 0s 4us/sample - loss: 0.0047 - val_loss: 0.0092\n",
            "Epoch 27/200\n",
            "111778/111778 [==============================] - 0s 4us/sample - loss: 0.0047 - val_loss: 0.0082\n",
            "Epoch 28/200\n",
            "111778/111778 [==============================] - 0s 4us/sample - loss: 0.0048 - val_loss: 0.0059\n",
            "Epoch 29/200\n",
            "111778/111778 [==============================] - 0s 4us/sample - loss: 0.0047 - val_loss: 0.0064\n",
            "Epoch 30/200\n",
            "111778/111778 [==============================] - 0s 4us/sample - loss: 0.0054 - val_loss: 0.0055\n",
            "Epoch 31/200\n",
            "111778/111778 [==============================] - 0s 4us/sample - loss: 0.0051 - val_loss: 0.0055\n",
            "Epoch 32/200\n",
            "111778/111778 [==============================] - 0s 4us/sample - loss: 0.0051 - val_loss: 0.0044\n",
            "Epoch 33/200\n",
            "111778/111778 [==============================] - 0s 4us/sample - loss: 0.0052 - val_loss: 0.0077\n",
            "Epoch 34/200\n",
            "111778/111778 [==============================] - 0s 4us/sample - loss: 0.0050 - val_loss: 0.0061\n",
            "Epoch 35/200\n",
            "111778/111778 [==============================] - 0s 4us/sample - loss: 0.0044 - val_loss: 0.0059\n",
            "Epoch 36/200\n",
            "111778/111778 [==============================] - 0s 4us/sample - loss: 0.0048 - val_loss: 0.0055\n",
            "Epoch 37/200\n",
            "111778/111778 [==============================] - 0s 4us/sample - loss: 0.0043 - val_loss: 0.0052\n",
            "Epoch 38/200\n",
            "111778/111778 [==============================] - 0s 4us/sample - loss: 0.0045 - val_loss: 0.0055\n",
            "Epoch 39/200\n",
            "111778/111778 [==============================] - 0s 4us/sample - loss: 0.0047 - val_loss: 0.0038\n",
            "Epoch 40/200\n",
            "111778/111778 [==============================] - 0s 4us/sample - loss: 0.0044 - val_loss: 0.0045\n",
            "Epoch 41/200\n",
            "111778/111778 [==============================] - 0s 4us/sample - loss: 0.0045 - val_loss: 0.0056\n",
            "Epoch 42/200\n",
            "111778/111778 [==============================] - 0s 4us/sample - loss: 0.0045 - val_loss: 0.0066\n",
            "Epoch 43/200\n",
            "111778/111778 [==============================] - 0s 4us/sample - loss: 0.0039 - val_loss: 0.0039\n",
            "Epoch 44/200\n",
            "111778/111778 [==============================] - 0s 4us/sample - loss: 0.0040 - val_loss: 0.0045\n",
            "Epoch 45/200\n",
            "111778/111778 [==============================] - 0s 4us/sample - loss: 0.0042 - val_loss: 0.0040\n",
            "Epoch 46/200\n",
            "111778/111778 [==============================] - 0s 4us/sample - loss: 0.0040 - val_loss: 0.0048\n",
            "Epoch 47/200\n",
            "111778/111778 [==============================] - 0s 4us/sample - loss: 0.0043 - val_loss: 0.0055\n",
            "Epoch 48/200\n",
            "111778/111778 [==============================] - 0s 4us/sample - loss: 0.0037 - val_loss: 0.0065\n",
            "Epoch 49/200\n",
            "111778/111778 [==============================] - 0s 4us/sample - loss: 0.0043 - val_loss: 0.0035\n",
            "Epoch 50/200\n",
            "111778/111778 [==============================] - 0s 4us/sample - loss: 0.0042 - val_loss: 0.0049\n",
            "Epoch 51/200\n",
            "111778/111778 [==============================] - 0s 4us/sample - loss: 0.0040 - val_loss: 0.0034\n",
            "Epoch 52/200\n",
            "111778/111778 [==============================] - 0s 4us/sample - loss: 0.0034 - val_loss: 0.0043\n",
            "Epoch 53/200\n",
            "111778/111778 [==============================] - 0s 4us/sample - loss: 0.0040 - val_loss: 0.0051\n",
            "Epoch 54/200\n",
            "111778/111778 [==============================] - 0s 4us/sample - loss: 0.0038 - val_loss: 0.0043\n",
            "Epoch 55/200\n",
            "111778/111778 [==============================] - 0s 4us/sample - loss: 0.0038 - val_loss: 0.0041\n",
            "Epoch 56/200\n",
            "111778/111778 [==============================] - 0s 4us/sample - loss: 0.0038 - val_loss: 0.0059\n",
            "Epoch 57/200\n",
            "111778/111778 [==============================] - 0s 4us/sample - loss: 0.0046 - val_loss: 0.0035\n",
            "Epoch 58/200\n",
            "111778/111778 [==============================] - 0s 4us/sample - loss: 0.0037 - val_loss: 0.0034\n",
            "Epoch 59/200\n",
            "111778/111778 [==============================] - 0s 4us/sample - loss: 0.0036 - val_loss: 0.0041\n",
            "Epoch 60/200\n",
            "111778/111778 [==============================] - 0s 4us/sample - loss: 0.0043 - val_loss: 0.0040\n",
            "Epoch 61/200\n",
            "111778/111778 [==============================] - 0s 4us/sample - loss: 0.0038 - val_loss: 0.0036\n",
            "Epoch 62/200\n",
            "111778/111778 [==============================] - 0s 4us/sample - loss: 0.0039 - val_loss: 0.0046\n",
            "Epoch 63/200\n",
            "111778/111778 [==============================] - 0s 4us/sample - loss: 0.0037 - val_loss: 0.0036\n",
            "Epoch 64/200\n",
            "111778/111778 [==============================] - 0s 4us/sample - loss: 0.0034 - val_loss: 0.0035\n",
            "Epoch 65/200\n",
            "111778/111778 [==============================] - 0s 4us/sample - loss: 0.0036 - val_loss: 0.0034\n",
            "Epoch 66/200\n",
            "111778/111778 [==============================] - 0s 4us/sample - loss: 0.0032 - val_loss: 0.0039\n",
            "Epoch 67/200\n",
            "111778/111778 [==============================] - 0s 4us/sample - loss: 0.0038 - val_loss: 0.0036\n",
            "Epoch 68/200\n",
            "111778/111778 [==============================] - 0s 4us/sample - loss: 0.0036 - val_loss: 0.0045\n",
            "Epoch 69/200\n",
            "111778/111778 [==============================] - 0s 4us/sample - loss: 0.0035 - val_loss: 0.0045\n",
            "Epoch 70/200\n",
            "111778/111778 [==============================] - 0s 4us/sample - loss: 0.0036 - val_loss: 0.0049\n",
            "Epoch 71/200\n",
            "111778/111778 [==============================] - 0s 4us/sample - loss: 0.0036 - val_loss: 0.0039\n",
            "Epoch 72/200\n",
            "111778/111778 [==============================] - 0s 4us/sample - loss: 0.0036 - val_loss: 0.0037\n",
            "Epoch 73/200\n",
            "111778/111778 [==============================] - 0s 4us/sample - loss: 0.0039 - val_loss: 0.0056\n",
            "Epoch 74/200\n",
            "111778/111778 [==============================] - 0s 4us/sample - loss: 0.0040 - val_loss: 0.0046\n",
            "Epoch 75/200\n",
            "111778/111778 [==============================] - 0s 4us/sample - loss: 0.0037 - val_loss: 0.0040\n",
            "Epoch 76/200\n",
            "111778/111778 [==============================] - 0s 4us/sample - loss: 0.0038 - val_loss: 0.0049\n",
            "Epoch 77/200\n",
            "111778/111778 [==============================] - 0s 4us/sample - loss: 0.0036 - val_loss: 0.0049\n",
            "Epoch 78/200\n",
            "111778/111778 [==============================] - 0s 4us/sample - loss: 0.0035 - val_loss: 0.0053\n",
            "Epoch 79/200\n",
            "111778/111778 [==============================] - 0s 4us/sample - loss: 0.0036 - val_loss: 0.0039\n",
            "Epoch 80/200\n",
            "111778/111778 [==============================] - 0s 4us/sample - loss: 0.0034 - val_loss: 0.0035\n",
            "Epoch 81/200\n",
            "111778/111778 [==============================] - 0s 4us/sample - loss: 0.0034 - val_loss: 0.0046\n",
            "Epoch 82/200\n",
            "111778/111778 [==============================] - 0s 4us/sample - loss: 0.0038 - val_loss: 0.0038\n",
            "Epoch 83/200\n",
            "111778/111778 [==============================] - 0s 4us/sample - loss: 0.0033 - val_loss: 0.0036\n",
            "Epoch 84/200\n",
            "111778/111778 [==============================] - 0s 4us/sample - loss: 0.0035 - val_loss: 0.0033\n",
            "Epoch 85/200\n",
            "111778/111778 [==============================] - 0s 4us/sample - loss: 0.0033 - val_loss: 0.0037\n",
            "Epoch 86/200\n",
            "111778/111778 [==============================] - 0s 4us/sample - loss: 0.0031 - val_loss: 0.0037\n",
            "Epoch 87/200\n",
            "111778/111778 [==============================] - 0s 4us/sample - loss: 0.0033 - val_loss: 0.0028\n",
            "Epoch 88/200\n",
            "111778/111778 [==============================] - 0s 4us/sample - loss: 0.0032 - val_loss: 0.0027\n",
            "Epoch 89/200\n",
            "111778/111778 [==============================] - 0s 4us/sample - loss: 0.0033 - val_loss: 0.0037\n",
            "Epoch 90/200\n",
            "111778/111778 [==============================] - 0s 4us/sample - loss: 0.0034 - val_loss: 0.0039\n",
            "Epoch 91/200\n",
            "111778/111778 [==============================] - 0s 4us/sample - loss: 0.0032 - val_loss: 0.0036\n",
            "Epoch 92/200\n",
            "111778/111778 [==============================] - 0s 4us/sample - loss: 0.0033 - val_loss: 0.0029\n",
            "Epoch 93/200\n",
            "111778/111778 [==============================] - 0s 4us/sample - loss: 0.0034 - val_loss: 0.0037\n",
            "Epoch 94/200\n",
            "111778/111778 [==============================] - 0s 4us/sample - loss: 0.0035 - val_loss: 0.0043\n",
            "Epoch 95/200\n",
            "111778/111778 [==============================] - 0s 4us/sample - loss: 0.0031 - val_loss: 0.0037\n",
            "Epoch 96/200\n",
            "111778/111778 [==============================] - 0s 4us/sample - loss: 0.0034 - val_loss: 0.0034\n",
            "Epoch 97/200\n",
            "111778/111778 [==============================] - 0s 4us/sample - loss: 0.0030 - val_loss: 0.0034\n",
            "Epoch 98/200\n",
            "111778/111778 [==============================] - 0s 4us/sample - loss: 0.0034 - val_loss: 0.0034\n",
            "Epoch 99/200\n",
            "111778/111778 [==============================] - 0s 4us/sample - loss: 0.0031 - val_loss: 0.0033\n",
            "Epoch 100/200\n",
            "111778/111778 [==============================] - 0s 4us/sample - loss: 0.0034 - val_loss: 0.0057\n",
            "Epoch 101/200\n",
            "111778/111778 [==============================] - 0s 4us/sample - loss: 0.0033 - val_loss: 0.0039\n",
            "Epoch 102/200\n",
            "111778/111778 [==============================] - 0s 4us/sample - loss: 0.0033 - val_loss: 0.0029\n",
            "Epoch 103/200\n",
            "111778/111778 [==============================] - 0s 4us/sample - loss: 0.0034 - val_loss: 0.0033\n",
            "Epoch 104/200\n",
            "111778/111778 [==============================] - 0s 4us/sample - loss: 0.0030 - val_loss: 0.0026\n",
            "Epoch 105/200\n",
            "111778/111778 [==============================] - 0s 4us/sample - loss: 0.0030 - val_loss: 0.0031\n",
            "Epoch 106/200\n",
            "111778/111778 [==============================] - 0s 4us/sample - loss: 0.0030 - val_loss: 0.0040\n",
            "Epoch 107/200\n",
            "111778/111778 [==============================] - 0s 4us/sample - loss: 0.0032 - val_loss: 0.0038\n",
            "Epoch 108/200\n",
            "111778/111778 [==============================] - 0s 4us/sample - loss: 0.0034 - val_loss: 0.0041\n",
            "Epoch 109/200\n",
            "111778/111778 [==============================] - 0s 4us/sample - loss: 0.0031 - val_loss: 0.0038\n",
            "Epoch 110/200\n",
            "111778/111778 [==============================] - 0s 4us/sample - loss: 0.0033 - val_loss: 0.0045\n",
            "Epoch 111/200\n",
            "111778/111778 [==============================] - 0s 4us/sample - loss: 0.0033 - val_loss: 0.0033\n",
            "Epoch 112/200\n",
            "111778/111778 [==============================] - 0s 4us/sample - loss: 0.0034 - val_loss: 0.0028\n",
            "Epoch 113/200\n",
            "111778/111778 [==============================] - 0s 4us/sample - loss: 0.0029 - val_loss: 0.0057\n",
            "Epoch 114/200\n",
            "111778/111778 [==============================] - 0s 4us/sample - loss: 0.0034 - val_loss: 0.0038\n",
            "Epoch 115/200\n",
            "111778/111778 [==============================] - 0s 4us/sample - loss: 0.0030 - val_loss: 0.0032\n",
            "Epoch 116/200\n",
            "111778/111778 [==============================] - 0s 4us/sample - loss: 0.0033 - val_loss: 0.0040\n",
            "Epoch 117/200\n",
            "111778/111778 [==============================] - 0s 4us/sample - loss: 0.0028 - val_loss: 0.0034\n",
            "Epoch 118/200\n",
            "111778/111778 [==============================] - 0s 4us/sample - loss: 0.0031 - val_loss: 0.0029\n",
            "Epoch 119/200\n",
            "111778/111778 [==============================] - 0s 4us/sample - loss: 0.0029 - val_loss: 0.0028\n",
            "Epoch 120/200\n",
            "111778/111778 [==============================] - 0s 4us/sample - loss: 0.0028 - val_loss: 0.0030\n",
            "Epoch 121/200\n",
            "111778/111778 [==============================] - 0s 4us/sample - loss: 0.0028 - val_loss: 0.0028\n",
            "Epoch 122/200\n",
            "111778/111778 [==============================] - 0s 4us/sample - loss: 0.0029 - val_loss: 0.0031\n",
            "Epoch 123/200\n",
            "111778/111778 [==============================] - 0s 4us/sample - loss: 0.0033 - val_loss: 0.0025\n",
            "Epoch 124/200\n",
            "111778/111778 [==============================] - 0s 4us/sample - loss: 0.0027 - val_loss: 0.0026\n",
            "Epoch 125/200\n",
            "111778/111778 [==============================] - 0s 4us/sample - loss: 0.0026 - val_loss: 0.0033\n",
            "Epoch 126/200\n",
            "111778/111778 [==============================] - 0s 4us/sample - loss: 0.0027 - val_loss: 0.0034\n",
            "Epoch 127/200\n",
            "111778/111778 [==============================] - 0s 4us/sample - loss: 0.0029 - val_loss: 0.0028\n",
            "Epoch 128/200\n",
            "111778/111778 [==============================] - 0s 4us/sample - loss: 0.0028 - val_loss: 0.0030\n",
            "Epoch 129/200\n",
            "111778/111778 [==============================] - 0s 4us/sample - loss: 0.0028 - val_loss: 0.0029\n",
            "Epoch 130/200\n",
            "111778/111778 [==============================] - 0s 4us/sample - loss: 0.0031 - val_loss: 0.0033\n",
            "Epoch 131/200\n",
            "111778/111778 [==============================] - 0s 4us/sample - loss: 0.0027 - val_loss: 0.0032\n",
            "Epoch 132/200\n",
            "111778/111778 [==============================] - 0s 4us/sample - loss: 0.0029 - val_loss: 0.0029\n",
            "Epoch 133/200\n",
            "111778/111778 [==============================] - 0s 4us/sample - loss: 0.0028 - val_loss: 0.0028\n",
            "Epoch 134/200\n",
            "111778/111778 [==============================] - 0s 4us/sample - loss: 0.0030 - val_loss: 0.0028\n",
            "Epoch 135/200\n",
            "111778/111778 [==============================] - 0s 4us/sample - loss: 0.0029 - val_loss: 0.0024\n",
            "Epoch 136/200\n",
            "111778/111778 [==============================] - 0s 4us/sample - loss: 0.0026 - val_loss: 0.0029\n",
            "Epoch 137/200\n",
            "111778/111778 [==============================] - 0s 4us/sample - loss: 0.0028 - val_loss: 0.0034\n",
            "Epoch 138/200\n",
            "111778/111778 [==============================] - 0s 4us/sample - loss: 0.0030 - val_loss: 0.0042\n",
            "Epoch 139/200\n",
            "111778/111778 [==============================] - 0s 4us/sample - loss: 0.0030 - val_loss: 0.0033\n",
            "Epoch 140/200\n",
            "111778/111778 [==============================] - 0s 4us/sample - loss: 0.0028 - val_loss: 0.0034\n",
            "Epoch 141/200\n",
            "111778/111778 [==============================] - 0s 4us/sample - loss: 0.0028 - val_loss: 0.0037\n",
            "Epoch 142/200\n",
            "111778/111778 [==============================] - 0s 4us/sample - loss: 0.0028 - val_loss: 0.0029\n",
            "Epoch 143/200\n",
            "111778/111778 [==============================] - 0s 4us/sample - loss: 0.0027 - val_loss: 0.0022\n",
            "Epoch 144/200\n",
            "111778/111778 [==============================] - 0s 4us/sample - loss: 0.0029 - val_loss: 0.0031\n",
            "Epoch 145/200\n",
            "111778/111778 [==============================] - 0s 4us/sample - loss: 0.0026 - val_loss: 0.0039\n",
            "Epoch 146/200\n",
            "111778/111778 [==============================] - 0s 4us/sample - loss: 0.0030 - val_loss: 0.0026\n",
            "Epoch 147/200\n",
            "111778/111778 [==============================] - 0s 4us/sample - loss: 0.0028 - val_loss: 0.0036\n",
            "Epoch 148/200\n",
            "111778/111778 [==============================] - 0s 4us/sample - loss: 0.0029 - val_loss: 0.0027\n",
            "Epoch 149/200\n",
            "111778/111778 [==============================] - 0s 4us/sample - loss: 0.0028 - val_loss: 0.0027\n",
            "Epoch 150/200\n",
            "111778/111778 [==============================] - 0s 4us/sample - loss: 0.0027 - val_loss: 0.0032\n",
            "Epoch 151/200\n",
            "111778/111778 [==============================] - 0s 4us/sample - loss: 0.0027 - val_loss: 0.0027\n",
            "Epoch 152/200\n",
            "111778/111778 [==============================] - 0s 4us/sample - loss: 0.0027 - val_loss: 0.0036\n",
            "Epoch 153/200\n",
            "111778/111778 [==============================] - 0s 4us/sample - loss: 0.0031 - val_loss: 0.0030\n",
            "Epoch 154/200\n",
            "111778/111778 [==============================] - 0s 4us/sample - loss: 0.0029 - val_loss: 0.0028\n",
            "Epoch 155/200\n",
            "111778/111778 [==============================] - 0s 4us/sample - loss: 0.0030 - val_loss: 0.0035\n",
            "Epoch 156/200\n",
            "111778/111778 [==============================] - 0s 4us/sample - loss: 0.0030 - val_loss: 0.0030\n",
            "Epoch 157/200\n",
            "111778/111778 [==============================] - 0s 4us/sample - loss: 0.0027 - val_loss: 0.0025\n",
            "Epoch 158/200\n",
            "111778/111778 [==============================] - 0s 4us/sample - loss: 0.0027 - val_loss: 0.0032\n",
            "Epoch 159/200\n",
            "111778/111778 [==============================] - 0s 4us/sample - loss: 0.0027 - val_loss: 0.0032\n",
            "Epoch 160/200\n",
            "111778/111778 [==============================] - 0s 4us/sample - loss: 0.0027 - val_loss: 0.0034\n",
            "Epoch 161/200\n",
            "111778/111778 [==============================] - 0s 4us/sample - loss: 0.0026 - val_loss: 0.0035\n",
            "Epoch 162/200\n",
            "111778/111778 [==============================] - 0s 4us/sample - loss: 0.0026 - val_loss: 0.0028\n",
            "Epoch 163/200\n",
            "111778/111778 [==============================] - 0s 4us/sample - loss: 0.0031 - val_loss: 0.0040\n",
            "Epoch 164/200\n",
            "111778/111778 [==============================] - 0s 4us/sample - loss: 0.0031 - val_loss: 0.0034\n",
            "Epoch 165/200\n",
            "111778/111778 [==============================] - 0s 4us/sample - loss: 0.0027 - val_loss: 0.0026\n",
            "Epoch 166/200\n",
            "111778/111778 [==============================] - 0s 4us/sample - loss: 0.0025 - val_loss: 0.0027\n",
            "Epoch 167/200\n",
            "111778/111778 [==============================] - 0s 4us/sample - loss: 0.0026 - val_loss: 0.0026\n",
            "Epoch 168/200\n",
            "111778/111778 [==============================] - 0s 4us/sample - loss: 0.0024 - val_loss: 0.0025\n",
            "Epoch 169/200\n",
            "111778/111778 [==============================] - 0s 4us/sample - loss: 0.0025 - val_loss: 0.0038\n",
            "Epoch 170/200\n",
            "111778/111778 [==============================] - 0s 4us/sample - loss: 0.0026 - val_loss: 0.0027\n",
            "Epoch 171/200\n",
            "111778/111778 [==============================] - 0s 4us/sample - loss: 0.0028 - val_loss: 0.0032\n",
            "Epoch 172/200\n",
            "111778/111778 [==============================] - 0s 4us/sample - loss: 0.0027 - val_loss: 0.0031\n",
            "Epoch 173/200\n",
            "111778/111778 [==============================] - 0s 4us/sample - loss: 0.0026 - val_loss: 0.0028\n",
            "Epoch 174/200\n",
            "111778/111778 [==============================] - 0s 4us/sample - loss: 0.0025 - val_loss: 0.0027\n",
            "Epoch 175/200\n",
            "111778/111778 [==============================] - 0s 4us/sample - loss: 0.0025 - val_loss: 0.0027\n",
            "Epoch 176/200\n",
            "111778/111778 [==============================] - 0s 4us/sample - loss: 0.0025 - val_loss: 0.0024\n",
            "Epoch 177/200\n",
            "111778/111778 [==============================] - 0s 4us/sample - loss: 0.0025 - val_loss: 0.0030\n",
            "Epoch 178/200\n",
            "111778/111778 [==============================] - 0s 4us/sample - loss: 0.0025 - val_loss: 0.0025\n",
            "Epoch 179/200\n",
            "111778/111778 [==============================] - 0s 4us/sample - loss: 0.0023 - val_loss: 0.0027\n",
            "Epoch 180/200\n",
            "111778/111778 [==============================] - 0s 4us/sample - loss: 0.0023 - val_loss: 0.0025\n",
            "Epoch 181/200\n",
            "111778/111778 [==============================] - 0s 4us/sample - loss: 0.0026 - val_loss: 0.0035\n",
            "Epoch 182/200\n",
            "111778/111778 [==============================] - 0s 4us/sample - loss: 0.0029 - val_loss: 0.0030\n",
            "Epoch 183/200\n",
            "111778/111778 [==============================] - 0s 4us/sample - loss: 0.0027 - val_loss: 0.0029\n",
            "Epoch 184/200\n",
            "111778/111778 [==============================] - 0s 4us/sample - loss: 0.0025 - val_loss: 0.0027\n",
            "Epoch 185/200\n",
            "111778/111778 [==============================] - 0s 4us/sample - loss: 0.0025 - val_loss: 0.0026\n",
            "Epoch 186/200\n",
            "111778/111778 [==============================] - 0s 4us/sample - loss: 0.0029 - val_loss: 0.0029\n",
            "Epoch 187/200\n",
            "111778/111778 [==============================] - 0s 4us/sample - loss: 0.0024 - val_loss: 0.0026\n",
            "Epoch 188/200\n",
            "111778/111778 [==============================] - 0s 4us/sample - loss: 0.0023 - val_loss: 0.0027\n",
            "Epoch 189/200\n",
            "111778/111778 [==============================] - 0s 4us/sample - loss: 0.0024 - val_loss: 0.0032\n",
            "Epoch 190/200\n",
            "111778/111778 [==============================] - 0s 4us/sample - loss: 0.0025 - val_loss: 0.0031\n",
            "Epoch 191/200\n",
            "111778/111778 [==============================] - 0s 4us/sample - loss: 0.0026 - val_loss: 0.0042\n",
            "Epoch 192/200\n",
            "111778/111778 [==============================] - 0s 4us/sample - loss: 0.0028 - val_loss: 0.0023\n",
            "Epoch 193/200\n",
            "111778/111778 [==============================] - 0s 4us/sample - loss: 0.0025 - val_loss: 0.0032\n",
            "Epoch 194/200\n",
            "111778/111778 [==============================] - 0s 4us/sample - loss: 0.0026 - val_loss: 0.0043\n",
            "Epoch 195/200\n",
            "111778/111778 [==============================] - 0s 4us/sample - loss: 0.0031 - val_loss: 0.0028\n",
            "Epoch 196/200\n",
            "111778/111778 [==============================] - 0s 4us/sample - loss: 0.0025 - val_loss: 0.0024\n",
            "Epoch 197/200\n",
            "111778/111778 [==============================] - 0s 4us/sample - loss: 0.0029 - val_loss: 0.0051\n",
            "Epoch 198/200\n",
            "111778/111778 [==============================] - 0s 4us/sample - loss: 0.0027 - val_loss: 0.0031\n",
            "Epoch 199/200\n",
            "111778/111778 [==============================] - 0s 4us/sample - loss: 0.0029 - val_loss: 0.0029\n",
            "Epoch 200/200\n",
            "111778/111778 [==============================] - 0s 4us/sample - loss: 0.0024 - val_loss: 0.0025\n"
          ],
          "name": "stdout"
        },
        {
          "output_type": "execute_result",
          "data": {
            "text/plain": [
              "<tensorflow.python.keras.callbacks.History at 0x7f93002fc780>"
            ]
          },
          "metadata": {
            "tags": []
          },
          "execution_count": 15
        }
      ]
    },
    {
      "cell_type": "code",
      "metadata": {
        "id": "kr3m1w6s96RQ",
        "colab_type": "code",
        "outputId": "ce670184-9010-4b4e-eb83-dcc9227e4ba3",
        "colab": {
          "base_uri": "https://localhost:8080/",
          "height": 35
        }
      },
      "source": [
        "x_pred = autoencoder.predict(X_test)\n",
        "mean_squared_error(X_test, x_pred)"
      ],
      "execution_count": 16,
      "outputs": [
        {
          "output_type": "execute_result",
          "data": {
            "text/plain": [
              "0.002527966"
            ]
          },
          "metadata": {
            "tags": []
          },
          "execution_count": 16
        }
      ]
    }
  ]
}